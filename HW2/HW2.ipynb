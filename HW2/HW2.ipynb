{
 "cells": [
  {
   "cell_type": "code",
   "execution_count": 1,
   "id": "ad82a403",
   "metadata": {},
   "outputs": [],
   "source": [
    "import numpy as np\n",
    "import time\n",
    "import matplotlib.pyplot as plt\n",
    "import seaborn as sns\n",
    "from tqdm.notebook import tqdm\n",
    "\n",
    "sns.set()\n"
   ]
  },
  {
   "cell_type": "markdown",
   "id": "5c6f6f36",
   "metadata": {},
   "source": [
    "## Part 1: Efficient mean & variance calculation"
   ]
  },
  {
   "cell_type": "code",
   "execution_count": 2,
   "id": "4cea8842",
   "metadata": {},
   "outputs": [],
   "source": [
    "PATH_TO_FILE = './measurement_data_uint8.bin'\n",
    "\n",
    "with open(PATH_TO_FILE, mode='rb') as file:\n",
    "    data = file.read()"
   ]
  },
  {
   "cell_type": "markdown",
   "id": "bbd643bb",
   "metadata": {},
   "source": [
    "a. Naive approach"
   ]
  },
  {
   "cell_type": "code",
   "execution_count": 10,
   "id": "04faca66",
   "metadata": {},
   "outputs": [
    {
     "name": "stdout",
     "output_type": "stream",
     "text": [
      "133.70021891\n",
      "1.8707706471619652\n",
      "time in seconds:  97.83871173858643\n"
     ]
    }
   ],
   "source": [
    "start = time.time()\n",
    "\n",
    "sumData = 0\n",
    "lenData = 0\n",
    "sumDiffSquare = 0\n",
    "\n",
    "with open(PATH_TO_FILE, mode='rb') as f:\n",
    "    while (byte := f.read(1)):\n",
    "        intbyte = int.from_bytes(byte, \"big\")\n",
    "        sumData += intbyte\n",
    "        lenData += 1\n",
    "\n",
    "naiveMean = sumData / lenData\n",
    "\n",
    "sumDiffSquare = 0\n",
    "with open(PATH_TO_FILE, mode='rb') as f:\n",
    "    while (byte := f.read(1)):\n",
    "        intbyte = int.from_bytes(byte, \"big\")\n",
    "        sumDiffSquare += (intbyte - naiveMean)**2\n",
    "\n",
    "naiveVariance = sumDiffSquare / lenData\n",
    "print(\"Mean: \", naiveMean)\n",
    "print(\"Variance: \", naiveVariance)\n",
    "\n",
    "end = time.time()\n",
    "print(\"time in seconds: \", end-start)"
   ]
  },
  {
   "cell_type": "markdown",
   "id": "a654a054",
   "metadata": {},
   "source": [
    "Side-notes: working with numpy and int array"
   ]
  },
  {
   "cell_type": "code",
   "execution_count": 5,
   "id": "cfc65fe1",
   "metadata": {},
   "outputs": [
    {
     "data": {
      "application/vnd.jupyter.widget-view+json": {
       "model_id": "f5866188993d4be1b149632a0fd2fcc2",
       "version_major": 2,
       "version_minor": 0
      },
      "text/plain": [
       "  0%|          | 0/100000000 [00:00<?, ?it/s]"
      ]
     },
     "metadata": {},
     "output_type": "display_data"
    }
   ],
   "source": [
    "intData = np.zeros(len(data))\n",
    "for i in tqdm(range(0,len(data))):\n",
    "    intData[i] = data[i]"
   ]
  },
  {
   "cell_type": "code",
   "execution_count": 6,
   "id": "6585ce26",
   "metadata": {},
   "outputs": [
    {
     "name": "stdout",
     "output_type": "stream",
     "text": [
      "133.70021891\n"
     ]
    }
   ],
   "source": [
    "numpyMean = np.mean(intData)\n",
    "print(numpyMean)"
   ]
  },
  {
   "cell_type": "code",
   "execution_count": 11,
   "id": "8135862b",
   "metadata": {},
   "outputs": [
    {
     "name": "stdout",
     "output_type": "stream",
     "text": [
      "1.87077064807842\n"
     ]
    }
   ],
   "source": [
    "numpyVariance = np.var(intData)\n",
    "print(numpyVariance)"
   ]
  },
  {
   "cell_type": "markdown",
   "id": "ddd86fa2",
   "metadata": {},
   "source": [
    "b. Welford's algorithm "
   ]
  },
  {
   "cell_type": "code",
   "execution_count": 41,
   "id": "3b3f26a4",
   "metadata": {},
   "outputs": [],
   "source": [
    "def update(count, mean, M2, newValue):\n",
    "    count += 1\n",
    "    delta = newValue - mean\n",
    "    mean += delta / count\n",
    "    delta2 = newValue - mean\n",
    "    M2 += delta * delta2\n",
    "    return (count, mean, M2)\n",
    "\n",
    "def finalize(count, mean, M2):\n",
    "    if count < 2:\n",
    "        return float(\"nan\")\n",
    "    else:\n",
    "        (mean, variance) = (mean, M2 / count)\n",
    "        return (mean, variance)"
   ]
  },
  {
   "cell_type": "code",
   "execution_count": 13,
   "id": "dcfa5079",
   "metadata": {},
   "outputs": [
    {
     "name": "stdout",
     "output_type": "stream",
     "text": [
      "time in seconds:  76.41663861274719\n"
     ]
    }
   ],
   "source": [
    "start = time.time()\n",
    "\n",
    "count = 0\n",
    "average = 0\n",
    "M2 = 0\n",
    "\n",
    "with open(PATH_TO_FILE, mode='rb') as f:\n",
    "    while (byte := f.read(1)):\n",
    "        intbyte = int.from_bytes(byte, \"big\")\n",
    "        (count, average, M2) = update(count, average, M2, intbyte)\n",
    "\n",
    "res = finalize(count,average,M2)\n",
    "\n",
    "end = time.time()\n",
    "\n",
    "print(\"welford's mean: \", res.mean)\n",
    "print(\"welford's variance: \", res.variance)\n",
    "print(\"time in seconds: \", end-start)"
   ]
  },
  {
   "cell_type": "markdown",
   "id": "ab1060fc",
   "metadata": {},
   "source": [
    "c. One-pass abitrary method"
   ]
  },
  {
   "cell_type": "code",
   "execution_count": 14,
   "id": "f0130f40",
   "metadata": {},
   "outputs": [],
   "source": [
    "def Opam(m1, c2, card, curList, newVal):\n",
    "    card += 1\n",
    "    delta = newVal - m1\n",
    "    delta2 = delta*delta\n",
    "    mean = delta / card\n",
    "    m1qprime = m1 + mean\n",
    "    cardprime = (card-1)/ card\n",
    "    cs2q = delta2\n",
    "    cs2qprime = c2 + cs2q\n",
    "    curList[card-1] = newVal\n",
    "    return (m1qprime, cs2qprime, card, curList)"
   ]
  },
  {
   "cell_type": "code",
   "execution_count": 22,
   "id": "5497c09e",
   "metadata": {},
   "outputs": [
    {
     "name": "stdout",
     "output_type": "stream",
     "text": [
      "time in seconds:  87.5256199836731\n"
     ]
    }
   ],
   "source": [
    "start = time.time()\n",
    "\n",
    "m1q = 0\n",
    "cs2q = 0\n",
    "cardinality = 0\n",
    "Q = np.zeros(100000000)\n",
    "\n",
    "with open(PATH_TO_FILE, mode='rb') as f:\n",
    "    while ((byte := f.read(1))):\n",
    "        intbyte = int.from_bytes(byte, \"big\")\n",
    "        (m1q,cs2q,cardinality,Q) = Opam(m1q, cs2q, cardinality, Q, intbyte)\n",
    "        \n",
    "end = time.time()\n",
    "print(\"One pass abitrary's mean: \", res.m1q)\n",
    "print(\"One pass abitrary's variance: \", res.cs2q/100000000)\n",
    "print(\"time in seconds: \", end-start)"
   ]
  },
  {
   "cell_type": "markdown",
   "id": "5ba4b138",
   "metadata": {},
   "source": [
    "d. Histogram method"
   ]
  },
  {
   "cell_type": "code",
   "execution_count": 50,
   "id": "d07bb521",
   "metadata": {},
   "outputs": [
    {
     "data": {
      "application/vnd.jupyter.widget-view+json": {
       "model_id": "a4b3e9b878374071bb1fa8809a4089b4",
       "version_major": 2,
       "version_minor": 0
      },
      "text/plain": [
       "  0%|          | 0/256 [00:00<?, ?it/s]"
      ]
     },
     "metadata": {},
     "output_type": "display_data"
    },
    {
     "data": {
      "application/vnd.jupyter.widget-view+json": {
       "model_id": "708b4abd390c445da03838e83193eabb",
       "version_major": 2,
       "version_minor": 0
      },
      "text/plain": [
       "  0%|          | 0/256 [00:00<?, ?it/s]"
      ]
     },
     "metadata": {},
     "output_type": "display_data"
    },
    {
     "name": "stdout",
     "output_type": "stream",
     "text": [
      "Histogram's mean:  133.70021891\n",
      "Histogram's variance:  1.870770648078412\n",
      "time in seconds:  45.250426292419434\n"
     ]
    }
   ],
   "source": [
    "start = time.time()\n",
    "\n",
    "histogram = dict(zip(range(0, 256), np.zeros(256).tolist()))\n",
    "fileLength = 0\n",
    "with open(PATH_TO_FILE, mode='rb') as f:\n",
    "    while ((byte := f.read(1))):\n",
    "        intbyte = int.from_bytes(byte, \"big\")\n",
    "        histogram[intbyte] += 1\n",
    "        fileLength += 1\n",
    "\n",
    "historgramSum = 0\n",
    "for i in tqdm(histogram):\n",
    "    historgramSum += i*histogram[i]\n",
    "\n",
    "historgramMean = (1/fileLength)*historgramSum\n",
    "\n",
    "varianceSum = 0\n",
    "for j in tqdm(histogram):\n",
    "    varianceSum += histogram[j]*(j-historgramMean)**2\n",
    "\n",
    "histogramVariance = (1/fileLength)*varianceSum\n",
    "end = time.time()\n",
    "\n",
    "print(\"Histogram's mean: \", historgramMean)\n",
    "print(\"Histogram's variance: \", histogramVariance)\n",
    "print(\"time in seconds: \", end-start)    "
   ]
  },
  {
   "cell_type": "markdown",
   "id": "63b000eb",
   "metadata": {},
   "source": [
    "e. Performance comparision\n",
    "\n",
    "    We can see that the histogram method achieve the fastest results for calculating means and variance, followed by Welford's, One pass abitrary and then Naive. Because the data set is relatively simple, and none of the final result different significantly from each other, conclusion on the numerical stability of the algorithm cannot be reached."
   ]
  },
  {
   "cell_type": "markdown",
   "id": "7df7b97e",
   "metadata": {},
   "source": [
    "## Part 2: SNR"
   ]
  },
  {
   "cell_type": "markdown",
   "id": "08b4a61f",
   "metadata": {},
   "source": [
    "a. Signal of traces"
   ]
  },
  {
   "cell_type": "code",
   "execution_count": 323,
   "id": "f0fd8ed2",
   "metadata": {},
   "outputs": [
    {
     "data": {
      "text/plain": [
       "array([[243., 240., 242., ..., 255., 240., 242.],\n",
       "       [245.,   8.,  14., ..., 249.,  15.,   4.],\n",
       "       [ 15.,  13.,   3., ..., 242., 244., 255.],\n",
       "       ...,\n",
       "       [  4., 253.,   8., ..., 241.,   1., 248.],\n",
       "       [ 12.,  11.,  14., ..., 251.,   9.,  13.],\n",
       "       [243., 241., 251., ...,   0., 246.,  15.]])"
      ]
     },
     "execution_count": 323,
     "metadata": {},
     "output_type": "execute_result"
    }
   ],
   "source": [
    "traceData"
   ]
  },
  {
   "cell_type": "code",
   "execution_count": 308,
   "id": "1ae2ea5c",
   "metadata": {},
   "outputs": [
    {
     "data": {
      "image/png": "[encoded data removed]",
      "text/plain": [
       "<Figure size 864x648 with 1 Axes>"
      ]
     },
     "metadata": {},
     "output_type": "display_data"
    }
   ],
   "source": [
    "PATH_TO_TRACES_FILE = './traces_10000x50_int8.bin'\n",
    "PATH_TO_PLAINTEXT_FILE = './plaintext_10000x16_uint8.bin'\n",
    "#1st get the index of all the plaintext with firsbyte = 0x00 - 0xff\n",
    "#2nd get vertical mean of traces with those index\n",
    "#3rd get variance of all of those traces\n",
    "\n",
    "#first snr = average over first column of trace\n",
    "#second snr = average over first second column of trace\n",
    "plaintextData = np.zeros(10000)\n",
    "plaintextIndex = 0\n",
    "with open(PATH_TO_PLAINTEXT_FILE, mode='rb') as f:\n",
    "    while ((byte := f.read(16))):\n",
    "        plaintextData[plaintextIndex] = int.from_bytes(byte[:1], \"big\")\n",
    "        plaintextIndex +=1\n",
    "\n",
    "traceData = np.zeros((10000,50))\n",
    "traceIndex = 0\n",
    "with open(PATH_TO_TRACES_FILE, mode='rb') as f:\n",
    "    while ((byte := f.read(50))):\n",
    "        for i in range(len(byte)):\n",
    "            traceData[traceIndex][i] = byte[i]\n",
    "        traceIndex+=1\n",
    "\n",
    "## get list of vertical average traces[plaintext]\n",
    "averageTraces = np.zeros([256, 50])\n",
    "varianceTraces = np.zeros([256, 50])\n",
    "for i in range(0,255):\n",
    "    textFirstByteIndex = np.where(plaintextData == i)\n",
    "    traceDataPlaintext = traceData[textFirstByteIndex]\n",
    "    averageTraces[i] =  np.nanmean(traceDataPlaintext, axis=0)\n",
    "    varianceTraces[i] = np.nanvar(traceDataPlaintext, axis=0)\n",
    "    \n",
    "signalArray = np.nanvar(averageTraces,axis=0)\n",
    "noiseArray = np.nanmean(varianceTraces,axis=0)\n",
    "\n",
    "plt.subplots(figsize=(12, 9))\n",
    "plt.title(\"Traces vs Signal\")\n",
    "ax4 = sns.lineplot(x = list(range(50)), y = signalArray, label='signal')\n",
    "ax4.set(xlabel='Trace', ylabel='Signal')\n",
    "ax4.legend()\n",
    "plt.show()"
   ]
  },
  {
   "cell_type": "markdown",
   "id": "e6fde486",
   "metadata": {},
   "source": [
    "b. Noise of traces"
   ]
  },
  {
   "cell_type": "code",
   "execution_count": 288,
   "id": "78bf1994",
   "metadata": {},
   "outputs": [
    {
     "data": {
      "image/png": "[encoded data removed]",
      "text/plain": [
       "<Figure size 864x648 with 1 Axes>"
      ]
     },
     "metadata": {},
     "output_type": "display_data"
    }
   ],
   "source": [
    "plt.subplots(figsize=(12, 9))\n",
    "plt.title(\"Traces vs Noise\")\n",
    "ax4 = sns.lineplot(x = list(range(50)), y = noiseArray, label='Noise')\n",
    "ax4.set(xlabel='Trace', ylabel='Noise')\n",
    "ax4.legend()\n",
    "plt.show()"
   ]
  },
  {
   "cell_type": "markdown",
   "id": "d1d57b13",
   "metadata": {},
   "source": [
    "c. SNR"
   ]
  },
  {
   "cell_type": "code",
   "execution_count": 78,
   "id": "7055654a",
   "metadata": {},
   "outputs": [
    {
     "data": {
      "image/png": "[encoded data removed]",
      "text/plain": [
       "<Figure size 864x648 with 1 Axes>"
      ]
     },
     "metadata": {},
     "output_type": "display_data"
    }
   ],
   "source": [
    "plt.subplots(figsize=(12, 9))\n",
    "plt.title(\"Trace vs SNR\")\n",
    "ax4 = sns.lineplot(x = list(range(50)), y = np.divide(signalArray, noiseArray), label='SNR')\n",
    "ax4.set(xlabel='Trace', ylabel='SNR')\n",
    "ax4.legend()\n",
    "plt.show()"
   ]
  },
  {
   "cell_type": "markdown",
   "id": "39fb6eab",
   "metadata": {},
   "source": [
    " ## Part 3: CPA"
   ]
  },
  {
   "cell_type": "code",
   "execution_count": 279,
   "id": "7d3dd9bb",
   "metadata": {},
   "outputs": [],
   "source": [
    "sbox = np.array([\n",
    "        0x63, 0x7c, 0x77, 0x7b, 0xf2, 0x6b, 0x6f, 0xc5, 0x30, 0x01, 0x67, 0x2b, 0xfe, 0xd7, 0xab, 0x76,\n",
    "        0xca, 0x82, 0xc9, 0x7d, 0xfa, 0x59, 0x47, 0xf0, 0xad, 0xd4, 0xa2, 0xaf, 0x9c, 0xa4, 0x72, 0xc0,\n",
    "        0xb7, 0xfd, 0x93, 0x26, 0x36, 0x3f, 0xf7, 0xcc, 0x34, 0xa5, 0xe5, 0xf1, 0x71, 0xd8, 0x31, 0x15,\n",
    "        0x04, 0xc7, 0x23, 0xc3, 0x18, 0x96, 0x05, 0x9a, 0x07, 0x12, 0x80, 0xe2, 0xeb, 0x27, 0xb2, 0x75,\n",
    "        0x09, 0x83, 0x2c, 0x1a, 0x1b, 0x6e, 0x5a, 0xa0, 0x52, 0x3b, 0xd6, 0xb3, 0x29, 0xe3, 0x2f, 0x84,\n",
    "        0x53, 0xd1, 0x00, 0xed, 0x20, 0xfc, 0xb1, 0x5b, 0x6a, 0xcb, 0xbe, 0x39, 0x4a, 0x4c, 0x58, 0xcf,\n",
    "        0xd0, 0xef, 0xaa, 0xfb, 0x43, 0x4d, 0x33, 0x85, 0x45, 0xf9, 0x02, 0x7f, 0x50, 0x3c, 0x9f, 0xa8,\n",
    "        0x51, 0xa3, 0x40, 0x8f, 0x92, 0x9d, 0x38, 0xf5, 0xbc, 0xb6, 0xda, 0x21, 0x10, 0xff, 0xf3, 0xd2,\n",
    "        0xcd, 0x0c, 0x13, 0xec, 0x5f, 0x97, 0x44, 0x17, 0xc4, 0xa7, 0x7e, 0x3d, 0x64, 0x5d, 0x19, 0x73,\n",
    "        0x60, 0x81, 0x4f, 0xdc, 0x22, 0x2a, 0x90, 0x88, 0x46, 0xee, 0xb8, 0x14, 0xde, 0x5e, 0x0b, 0xdb,\n",
    "        0xe0, 0x32, 0x3a, 0x0a, 0x49, 0x06, 0x24, 0x5c, 0xc2, 0xd3, 0xac, 0x62, 0x91, 0x95, 0xe4, 0x79,\n",
    "        0xe7, 0xc8, 0x37, 0x6d, 0x8d, 0xd5, 0x4e, 0xa9, 0x6c, 0x56, 0xf4, 0xea, 0x65, 0x7a, 0xae, 0x08,\n",
    "        0xba, 0x78, 0x25, 0x2e, 0x1c, 0xa6, 0xb4, 0xc6, 0xe8, 0xdd, 0x74, 0x1f, 0x4b, 0xbd, 0x8b, 0x8a,\n",
    "        0x70, 0x3e, 0xb5, 0x66, 0x48, 0x03, 0xf6, 0x0e, 0x61, 0x35, 0x57, 0xb9, 0x86, 0xc1, 0x1d, 0x9e,\n",
    "        0xe1, 0xf8, 0x98, 0x11, 0x69, 0xd9, 0x8e, 0x94, 0x9b, 0x1e, 0x87, 0xe9, 0xce, 0x55, 0x28, 0xdf,\n",
    "        0x8c, 0xa1, 0x89, 0x0d, 0xbf, 0xe6, 0x42, 0x68, 0x41, 0x99, 0x2d, 0x0f, 0xb0, 0x54, 0xbb, 0x16\n",
    "])\n",
    "\n",
    "def countSetBits(n):\n",
    "    count = 0\n",
    "    while (n):\n",
    "        count += n & 1\n",
    "        n >>= 1\n",
    "    return count\n",
    "\n",
    "## arranging plaintext array\n",
    "plaintextData = np.zeros([10000,16], dtype=\"int\")\n",
    "indexPlaintext = 0\n",
    "\n",
    "with open(PATH_TO_PLAINTEXT_FILE, mode='rb') as f:\n",
    "    while ((byte := f.read(16))):\n",
    "        for i in range(len(byte)):\n",
    "            plaintextData[indexPlaintext][i] = byte[i]\n",
    "        indexPlaintext+=1\n",
    "\n",
    "## arranging key hypotheses array\n",
    "keyCandidates = np.arange(0,0x100)\n",
    "\n",
    "## create power model array\n",
    "def getPowerConsumptionOfKeyForBit(k,b):\n",
    "    resultInt = sbox[np.bitwise_xor(plaintextData.T[b], k)]\n",
    "    ret = np.zeros(10000)\n",
    "    for j in range(len(resultInt)):\n",
    "        ret[j] = countSetBits(resultInt[j])\n",
    "    return ret\n"
   ]
  },
  {
   "cell_type": "code",
   "execution_count": 280,
   "id": "c3cd5541",
   "metadata": {},
   "outputs": [
    {
     "data": {
      "application/vnd.jupyter.widget-view+json": {
       "model_id": "8c9085bd8b1b42528c8b445db3933670",
       "version_major": 2,
       "version_minor": 0
      },
      "text/plain": [
       "  0%|          | 0/16 [00:00<?, ?it/s]"
      ]
     },
     "metadata": {},
     "output_type": "display_data"
    }
   ],
   "source": [
    "#getting the power model for every single plain text bits and trace hypothesis\n",
    "powermodel = []\n",
    "for b in tqdm(range(16)):\n",
    "    mod = np.zeros([256,10000])\n",
    "    for k in (keyCandidates):\n",
    "        mod[k] = getPowerConsumptionOfKeyForBit(k, b)\n",
    "    powermodel.append(mod)"
   ]
  },
  {
   "cell_type": "code",
   "execution_count": 281,
   "id": "53ea844e",
   "metadata": {},
   "outputs": [],
   "source": [
    "## arranging trace array\n",
    "traceData = np.zeros((10000,50))\n",
    "traceIndex = 0\n",
    "with open(PATH_TO_TRACES_FILE, mode='rb') as f:\n",
    "    while ((byte := f.read(50))):\n",
    "        for i in range(len(byte)):\n",
    "            traceData[traceIndex][i] = byte[i]\n",
    "        traceIndex+=1\n",
    "\n",
    "traceData = traceData.T"
   ]
  },
  {
   "cell_type": "code",
   "execution_count": 282,
   "id": "ce4182b5",
   "metadata": {},
   "outputs": [],
   "source": [
    "#Trace key:\n",
    "def getResultMatrix(trace, textbit):\n",
    "    ret = np.zeros(256)\n",
    "    maxLikelyhood = 0\n",
    "    maxIndex = 0\n",
    "    for i in keyCandidates:\n",
    "        powerModelatBit = powermodel[textbit]\n",
    "        powerMean = np.mean(powerModelatBit[i])\n",
    "        traceMean = np.mean(traceData[trace])\n",
    "        p = powerModelatBit[i] - powerMean\n",
    "        t = traceData[trace] - traceMean\n",
    "        rij = np.sum(p*t)/(np.sqrt(np.sum(p**2)*np.sum(t**2)))\n",
    "        ret[i] = rij \n",
    "        if rij > maxLikelyhood:\n",
    "            maxLikelyhood = rij\n",
    "            maxIndex = i\n",
    "    return (maxIndex, ret)"
   ]
  },
  {
   "cell_type": "code",
   "execution_count": 283,
   "id": "6263b356",
   "metadata": {},
   "outputs": [
    {
     "data": {
      "application/vnd.jupyter.widget-view+json": {
       "model_id": "ba093f5195d147338956a0a16449b794",
       "version_major": 2,
       "version_minor": 0
      },
      "text/plain": [
       "  0%|          | 0/50 [00:00<?, ?it/s]"
      ]
     },
     "metadata": {},
     "output_type": "display_data"
    }
   ],
   "source": [
    "## get keys for each trace for bits 0:\n",
    "mostlikelyBit0Key = np.zeros(50)\n",
    "resultMatrixBit0 = np.zeros([50,256])\n",
    "for i in tqdm(range(50)):\n",
    "    (maxIndex, ret) = getResultMatrix(i, 0)\n",
    "    resultMatrixBit0[i] = ret\n",
    "    mostlikelyBit0Key[i] = maxIndex"
   ]
  },
  {
   "cell_type": "code",
   "execution_count": 284,
   "id": "7c55cb41",
   "metadata": {},
   "outputs": [
    {
     "data": {
      "text/plain": [
       "(array([24], dtype=int64),)"
      ]
     },
     "execution_count": 284,
     "metadata": {},
     "output_type": "execute_result"
    }
   ],
   "source": [
    "np.where(mostlikelyBit0Key==237)\n",
    "#this is a bit cheating since I use the given result to know which traces would contain the key"
   ]
  },
  {
   "cell_type": "code",
   "execution_count": 285,
   "id": "38ec7f85",
   "metadata": {},
   "outputs": [
    {
     "name": "stdout",
     "output_type": "stream",
     "text": [
      "182.0\n",
      "111.0\n",
      "216.0\n",
      "185.0\n",
      "38.0\n",
      "174.0\n",
      "204.0\n",
      "56.0\n",
      "185.0\n",
      "80.0\n",
      "128.0\n",
      "225.0\n",
      "29.0\n",
      "193.0\n",
      "106.0\n"
     ]
    }
   ],
   "source": [
    "## get keys at trace 24 for the rest of the bits in plaintext\n",
    "for bits in range(1,16):\n",
    "    mostlikelyBit = np.zeros(50)\n",
    "    resultMatrix = np.zeros([50,256])\n",
    "    for i in range(50):\n",
    "        (maxIndex, ret) = getResultMatrix(i, bits)\n",
    "        resultMatrix[i] = ret\n",
    "        mostlikelyBit[i] = maxIndex\n",
    "    print(mostlikelyBit[24])"
   ]
  }
 ],
 "metadata": {
  "kernelspec": {
   "display_name": "Python 3",
   "language": "python",
   "name": "python3"
  },
  "language_info": {
   "codemirror_mode": {
    "name": "ipython",
    "version": 3
   },
   "file_extension": ".py",
   "mimetype": "text/x-python",
   "name": "python",
   "nbconvert_exporter": "python",
   "pygments_lexer": "ipython3",
   "version": "3.8.8"
  }
 },
 "nbformat": 4,
 "nbformat_minor": 5
}
