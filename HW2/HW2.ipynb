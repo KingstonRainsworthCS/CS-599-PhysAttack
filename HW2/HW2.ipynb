{
 "cells": [
  {
   "cell_type": "code",
   "execution_count": 30,
   "id": "ad82a403",
   "metadata": {},
   "outputs": [],
   "source": [
    "import numpy as np\n",
    "import time\n",
    "from tqdm.notebook import tqdm"
   ]
  },
  {
   "cell_type": "markdown",
   "id": "5c6f6f36",
   "metadata": {},
   "source": [
    "## Part 1: Efficient mean & variance calculation"
   ]
  },
  {
   "cell_type": "code",
   "execution_count": 18,
   "id": "4cea8842",
   "metadata": {},
   "outputs": [],
   "source": [
    "PATH_TO_FILE = './measurement_data_uint8.bin'\n",
    "\n",
    "with open(PATH_TO_FILE, mode='rb') as file:\n",
    "    data = file.read()"
   ]
  },
  {
   "cell_type": "markdown",
   "id": "bbd643bb",
   "metadata": {},
   "source": [
    "a. Naive approach"
   ]
  },
  {
   "cell_type": "code",
   "execution_count": 19,
   "id": "04faca66",
   "metadata": {},
   "outputs": [
    {
     "data": {
      "application/vnd.jupyter.widget-view+json": {
       "model_id": "087767c0c2b743baae03c323e6de7a62",
       "version_major": 2,
       "version_minor": 0
      },
      "text/plain": [
       "  0%|          | 0/100000000 [00:00<?, ?it/s]"
      ]
     },
     "metadata": {},
     "output_type": "display_data"
    },
    {
     "name": "stdout",
     "output_type": "stream",
     "text": [
      "133.70021891\n"
     ]
    }
   ],
   "source": [
    "sumData = 0\n",
    "for i in tqdm(data):\n",
    "    sumData += i\n",
    "naiveMean = sumData / len(data)\n",
    "print(naiveMean)"
   ]
  },
  {
   "cell_type": "code",
   "execution_count": 4,
   "id": "82bc920c",
   "metadata": {},
   "outputs": [
    {
     "data": {
      "application/vnd.jupyter.widget-view+json": {
       "model_id": "1076fc77003247e0ad9f4eae5ad1771e",
       "version_major": 2,
       "version_minor": 0
      },
      "text/plain": [
       "  0%|          | 0/100000000 [00:00<?, ?it/s]"
      ]
     },
     "metadata": {},
     "output_type": "display_data"
    },
    {
     "name": "stdout",
     "output_type": "stream",
     "text": [
      "1.8707706471619652\n"
     ]
    }
   ],
   "source": [
    "sumDiffSquare = 0\n",
    "for i in tqdm(data):\n",
    "    sumDiffSquare += (i - naiveMean)**2\n",
    "naiveVariance = sumDiffSquare / len(data)\n",
    "print(naiveVariance)"
   ]
  },
  {
   "cell_type": "markdown",
   "id": "a654a054",
   "metadata": {},
   "source": [
    "Side-notes: working with numpy and int array"
   ]
  },
  {
   "cell_type": "code",
   "execution_count": 5,
   "id": "cfc65fe1",
   "metadata": {},
   "outputs": [
    {
     "data": {
      "application/vnd.jupyter.widget-view+json": {
       "model_id": "17546f87a52d44818fda826999869ae6",
       "version_major": 2,
       "version_minor": 0
      },
      "text/plain": [
       "  0%|          | 0/100000000 [00:00<?, ?it/s]"
      ]
     },
     "metadata": {},
     "output_type": "display_data"
    }
   ],
   "source": [
    "intData = np.zeros(len(data))\n",
    "for i in tqdm(range(0,len(data))):\n",
    "    intData[i] = data[i]"
   ]
  },
  {
   "cell_type": "code",
   "execution_count": 6,
   "id": "6585ce26",
   "metadata": {},
   "outputs": [
    {
     "name": "stdout",
     "output_type": "stream",
     "text": [
      "133.70021891\n"
     ]
    }
   ],
   "source": [
    "numpyMean = np.mean(intData)\n",
    "print(numpyMean)"
   ]
  },
  {
   "cell_type": "code",
   "execution_count": 7,
   "id": "8135862b",
   "metadata": {},
   "outputs": [
    {
     "name": "stdout",
     "output_type": "stream",
     "text": [
      "1.87077064807842\n"
     ]
    }
   ],
   "source": [
    "numpyVariance = np.var(intData)\n",
    "print(numpyVariance)"
   ]
  },
  {
   "cell_type": "markdown",
   "id": "ddd86fa2",
   "metadata": {},
   "source": [
    "b. Welford's algorithm "
   ]
  },
  {
   "cell_type": "code",
   "execution_count": 20,
   "id": "3b3f26a4",
   "metadata": {},
   "outputs": [],
   "source": [
    "def update(count, mean, M2, newValue):\n",
    "    count += 1\n",
    "    delta = newValue - mean\n",
    "    mean += delta / count\n",
    "    delta2 = newValue - mean\n",
    "    M2 += delta * delta2\n",
    "    return (count, mean, M2)\n",
    "\n",
    "def finalize(count, mean, M2):\n",
    "    if count < 2:\n",
    "        return float(\"nan\")\n",
    "    else:\n",
    "        (mean, variance, sampleVariance) = (mean, M2 / count, M2 / (count - 1))\n",
    "        return (mean, variance, sampleVariance)"
   ]
  },
  {
   "cell_type": "code",
   "execution_count": 31,
   "id": "dcfa5079",
   "metadata": {},
   "outputs": [
    {
     "name": "stdout",
     "output_type": "stream",
     "text": [
      "time in seconds:  -134.9626064300537\n"
     ]
    }
   ],
   "source": [
    "start = time.time()\n",
    "count = 0\n",
    "average = 0\n",
    "M2 = 0\n",
    "\n",
    "with open(PATH_TO_FILE, mode='rb') as f:\n",
    "    while (byte := f.read(1)):\n",
    "        intbyte = int.from_bytes(byte, \"big\")\n",
    "        (count, average, M2) = update(count, average, M2, intbyte)\n",
    "\n",
    "res = finalize(count,average,M2)\n",
    "\n",
    "end = time.time()\n",
    "print(\"time in seconds: \", end-start)"
   ]
  },
  {
   "cell_type": "code",
   "execution_count": null,
   "id": "f6d5c5f5",
   "metadata": {},
   "outputs": [],
   "source": []
  }
 ],
 "metadata": {
  "kernelspec": {
   "display_name": "Python 3",
   "language": "python",
   "name": "python3"
  },
  "language_info": {
   "codemirror_mode": {
    "name": "ipython",
    "version": 3
   },
   "file_extension": ".py",
   "mimetype": "text/x-python",
   "name": "python",
   "nbconvert_exporter": "python",
   "pygments_lexer": "ipython3",
   "version": "3.8.8"
  }
 },
 "nbformat": 4,
 "nbformat_minor": 5
}
