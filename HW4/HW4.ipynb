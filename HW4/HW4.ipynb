{
 "cells": [
  {
   "cell_type": "code",
   "execution_count": 70,
   "id": "630a8602",
   "metadata": {},
   "outputs": [],
   "source": [
    "import numpy as np"
   ]
  },
  {
   "cell_type": "markdown",
   "id": "bd31ac8e",
   "metadata": {},
   "source": [
    "## 1. RSA clock speed requirement\n",
    "\n",
    "An important processing platform for digital signatures are smartcards. Older smartcards\n",
    "are typically based on an 8-bit processor. Let us assume that such a processor requires one\n",
    "clock cycle for an 8x8 bit multiply-and-add. Please assume that a simple square-and-multiply\n",
    "algorithm is used and a b-bit multiplication and a b-bit squaring requires the same number\n",
    "of clock cycles. (30 pts)"
   ]
  },
  {
   "cell_type": "markdown",
   "id": "8ab1b9d2",
   "metadata": {},
   "source": [
    "    a. What is the minimum processor clock speed to process an RSA signature in less than 0.75s if modulus N is 512 bits? 1024 bits?"
   ]
  },
  {
   "cell_type": "markdown",
   "id": "1447848d",
   "metadata": {},
   "source": [
    "Assuming that we only need to perform the verification of RSA signature (no hash), we expected to do one modulus exponential c^d and one comparision under mod N. If d is uniformly chosen (equal chance of 0s and 1s). Also assume no CRT implementation:"
   ]
  },
  {
   "cell_type": "code",
   "execution_count": 71,
   "id": "2731865e",
   "metadata": {},
   "outputs": [
    {
     "name": "stdout",
     "output_type": "stream",
     "text": [
      "Groups #:  4096.0\n",
      "Number of cycles needed:  3145728.0\n",
      "Processor needed:  4194304.0\n"
     ]
    }
   ],
   "source": [
    "## b = 512\n",
    "# Number of \"group\" that an 8 bits processor will have to process:\n",
    "group512 = (512**2)/64\n",
    "print(\"Groups #: \", group512)\n",
    "# Out of those \"group\", we expected on average half would contain a multiply operation, meaning 4 in each group of 8.\n",
    "cycles512 = (0.5*1+0.5*2)*512*group512\n",
    "print(\"Number of cycles needed: \", cycles512)\n",
    "print(\"Processor needed: \", cycles512 / 0.75)"
   ]
  },
  {
   "cell_type": "code",
   "execution_count": 72,
   "id": "7987fe86",
   "metadata": {},
   "outputs": [
    {
     "name": "stdout",
     "output_type": "stream",
     "text": [
      "Groups #:  16384.0\n",
      "Number of cycles needed:  25165824.0\n",
      "Processor needed:  33554432.0\n"
     ]
    }
   ],
   "source": [
    "## b = 1024\n",
    "# Number of \"group\" that an 8 bits processor will have to process:\n",
    "group1024 = (1024**2)/64\n",
    "print(\"Groups #: \", group1024)\n",
    "# Out of those \"group\", we expected on average half would contain a multiply operation, meaning 4 in each group of 8.\n",
    "cycles1024 = (0.5*1+0.5*2)*1024*group1024\n",
    "print(\"Number of cycles needed: \", cycles1024)\n",
    "print(\"Processor needed: \", cycles1024 / 0.75)"
   ]
  },
  {
   "cell_type": "markdown",
   "id": "2ec376a6",
   "metadata": {},
   "source": [
    "    b. Is this a reasonable goal if the processor is not allowed to clock faster than 8 MHz? (5 pts)"
   ]
  },
  {
   "cell_type": "markdown",
   "id": "dfa3521a",
   "metadata": {},
   "source": [
    "Based on our number it seems like this is more than enough for 512 bit case but is rather lacking for 1024. This can be further optimize by making sure that our calculation doesn't overflow the register using CRT"
   ]
  },
  {
   "cell_type": "markdown",
   "id": "29bfea21",
   "metadata": {},
   "source": [
    "## 2. Fault Injection Attack"
   ]
  },
  {
   "cell_type": "markdown",
   "id": "172edaa6",
   "metadata": {},
   "source": [
    "    a. Bellcore's method"
   ]
  },
  {
   "cell_type": "code",
   "execution_count": 73,
   "id": "0ee208b8",
   "metadata": {},
   "outputs": [],
   "source": [
    "n = int(\"9B1F16A7696AC90FA7AE615A1F71BD1AC0C31B37A9F14376BEC7FB701412F0E3B79CAB88F906B350B521578766C78CACD2E80632D0935F50CDDC415DC1B046EB3B3556624EB412D056F873E5A056C2B85B364D032BBAA9276757B058879B02CB2098D63C61551D4753B1AE1890D8FF79BA10F82307492A775A5715AD605B5601\", 16)\n",
    "s = int(\"1448FA660D3DEE693A9AE10E3DBE176DD0AE9637F2896003367FAB3F71C1BE2C8A143DD9E4167C9A07801E666AC268F376EE6B9A27752322E1BBD16F8DDA2B90058A07B1AB564537C800953BD23771D8CFD08B96D34BA6013B10383B19D0F263E0EEBC7D09FDFEA003D73DDA885D25A3C2870CF8E5FFE7201AE75874F383097B\", 16)\n",
    "sprime = int(\"9ABD38BDD461B4F8F6A1824B1B43D41C18319071CA6028865576C32A258532BB08A449F29372F4BDB016B5A1F57AAA96BE66B17ECF0CD2BF89C7CAC77E5B1A43460688C3EDBF6DA6EBCEEA9B5797A4FC28EC93EF18DA6EE54A523861ABEDC82C4A148EC5C88DE1C51B6C813C8C13173E8526D0035E2A375CF7222A18C2860B1A\", 16)"
   ]
  },
  {
   "cell_type": "code",
   "execution_count": 74,
   "id": "7c28b98d",
   "metadata": {},
   "outputs": [
    {
     "name": "stdout",
     "output_type": "stream",
     "text": [
      "0\n",
      "0\n"
     ]
    }
   ],
   "source": [
    "## get factor:\n",
    "p = np.gcd(s-sprime,n)\n",
    "## check if p and q =1/p is factor:\n",
    "print(np.mod(n,p))\n",
    "q = n//p\n",
    "print(np.mod(n,q))"
   ]
  },
  {
   "cell_type": "code",
   "execution_count": 75,
   "id": "a0937c20",
   "metadata": {},
   "outputs": [
    {
     "name": "stdout",
     "output_type": "stream",
     "text": [
      "Prime factors: \n",
      "q:  3343014699932574834486400062724942446282921089048903672549693237411543833898659799117543113600623364982724751633946245990580023392774069384346467258938278139\n",
      "p:  32584355429002068820114066592527944384554370845740192748510992462778465495333842065165275579929336855891368856015110459406962333127267387006939636984883\n"
     ]
    }
   ],
   "source": [
    "print(\"Prime factors: \")\n",
    "print(\"q: \", q)\n",
    "print(\"p: \", p)"
   ]
  },
  {
   "cell_type": "markdown",
   "id": "2550c771",
   "metadata": {},
   "source": [
    "    b. Lentra's method"
   ]
  },
  {
   "cell_type": "code",
   "execution_count": 76,
   "id": "51e251ca",
   "metadata": {},
   "outputs": [],
   "source": [
    "nL = int(\"C2D2BE8E722AE5BBD23DFAD362A08B4D32A45115542E23E49B3546583338CD8B8BA42EF289B2E447E9BF6EAF7F24D02565D224ABDDD6D2F44A6F2816A4323196942DF20DED8F10024524E1B2F02F4AD0C1CBF7C778270BCD708EBFA049384EDEEF24C084DA3CA2EE146CA579CC42AEE7F6D4B0F59E5843A519329BEB5F976607\", 16)\n",
    "e = int(\"010001\", 16)\n",
    "m = int(\"1E8ADB08E98A58012C55A8C419747BD8D8DB40FAC240DA92BF4874F79E9AD73B20A934070CAA60C767254168ABEB37955618458F6BF94B2D7BA8921DE7E84FA67AF7E0D6FE9EDD554ABF4418F7AEE8D829E6EC1245CFCBAF589667963B531B89AF63879C9A653176A03BA689BC5DD45DA663910A19FA496A6AEFB3F9ADFFF696\", 16)\n",
    "sprimeL = int(\"2572EE15579D2E18724E98A137BC82CC46654E04E0AF227C36D7B0C29EF49D1B7757A367712EBC6C8DAD7E526678860CCD44AFFBE0C3791F4E0BA3E1863303E807CC4BD8A89542B22158D67D99DC93050ACA584D2D06950B6DC6157E47CFED4DC6D877E47A0C7F1A09FEA4115EBF67EFDAF4A8409689054366E58786E74D2ABD\", 16)"
   ]
  },
  {
   "cell_type": "code",
   "execution_count": 77,
   "id": "d9bfc027",
   "metadata": {},
   "outputs": [
    {
     "name": "stdout",
     "output_type": "stream",
     "text": [
      "0\n",
      "0\n"
     ]
    }
   ],
   "source": [
    "## get factor:\n",
    "qL = np.gcd(nL, m-(pow(sprimeL, e, nL)))\n",
    "## check if q andp = nL // q is factor:\n",
    "print(np.mod(nL, qL))\n",
    "pL = nL // qL\n",
    "print(np.mod(nL, pL))"
   ]
  },
  {
   "cell_type": "code",
   "execution_count": 78,
   "id": "ca618303",
   "metadata": {},
   "outputs": [
    {
     "name": "stdout",
     "output_type": "stream",
     "text": [
      "Prime factors: \n",
      "q:  48037643068688046687732077076593307065662958534176677284921238295999415967349864773150949860055202330159288198990193195891191860803220117368052600123009\n",
      "p:  2847964824927637344993692960955283032782855967321159107889725459612329395728793747044913299774411642193907163140863799636093590460390137004726094068743430279\n"
     ]
    }
   ],
   "source": [
    "print(\"Prime factors: \")\n",
    "print(\"q: \", qL)\n",
    "print(\"p: \", pL)"
   ]
  },
  {
   "cell_type": "code",
   "execution_count": null,
   "id": "51f1f2b6",
   "metadata": {},
   "outputs": [],
   "source": []
  }
 ],
 "metadata": {
  "kernelspec": {
   "display_name": "Python 3",
   "language": "python",
   "name": "python3"
  },
  "language_info": {
   "codemirror_mode": {
    "name": "ipython",
    "version": 3
   },
   "file_extension": ".py",
   "mimetype": "text/x-python",
   "name": "python",
   "nbconvert_exporter": "python",
   "pygments_lexer": "ipython3",
   "version": "3.8.8"
  }
 },
 "nbformat": 4,
 "nbformat_minor": 5
}
